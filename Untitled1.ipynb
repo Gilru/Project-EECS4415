{
 "cells": [
  {
   "cell_type": "code",
   "execution_count": 3,
   "metadata": {},
   "outputs": [],
   "source": [
    "from graphframes import *\n"
   ]
  },
  {
   "cell_type": "code",
   "execution_count": 14,
   "metadata": {},
   "outputs": [
    {
     "name": "stdout",
     "output_type": "stream",
     "text": [
      "+-----+------+\n",
      "|   id|degree|\n",
      "+-----+------+\n",
      "|11563|     1|\n",
      "|12888|  1356|\n",
      "|15041|  2642|\n",
      "|12003|  3906|\n",
      "|14986|  6984|\n",
      "|13851| 34186|\n",
      "|15412| 15797|\n",
      "|11150|  2688|\n",
      "|13367|  5545|\n",
      "|11537|  3979|\n",
      "|13244| 30797|\n",
      "|13232|190664|\n",
      "|11109| 18054|\n",
      "|10918|  1356|\n",
      "|11865|  2256|\n",
      "|12402| 13112|\n",
      "|11471|  1480|\n",
      "|13076|  1579|\n",
      "|15249|  5537|\n",
      "|14783|  6076|\n",
      "+-----+------+\n",
      "only showing top 20 rows\n",
      "\n"
     ]
    }
   ],
   "source": [
    "from pyspark.sql import SparkSession\n",
    "from graphframes import *\n",
    "\n",
    "spark = SparkSession \\\n",
    "    .builder \\\n",
    "    .appName(\"Graph\") \\\n",
    "    .getOrCreate()\n",
    "\n",
    "def getAllAirports(df):\n",
    "  all_airports_vertices = df.select('ORIGIN_AIRPORT_ID','ORIGIN_CITY_NAME').distinct()\n",
    "  return all_airports_vertices.withColumnRenamed('ORIGIN_AIRPORT_ID', \"id\")\n",
    "\n",
    "\n",
    "def getAllTrips(df):\n",
    "  all_trip_edges = df.select('ORIGIN_AIRPORT_ID','ORIGIN_CITY_NAME','DEST_AIRPORT_ID','DEST_CITY_NAME','DEP_DELAY','ARR_DELAY','CARRIER_DELAY','WEATHER_DELAY')\n",
    "  return all_trip_edges.withColumnRenamed(\"ORIGIN_AIRPORT_ID\",\"src\").withColumnRenamed(\"DEST_AIRPORT_ID\",\"dst\")\n",
    "\n",
    "\n",
    "\n",
    "\n",
    "# ------------------------------TEST----------------------------------------------\n",
    "# The result of loading a parquet file is also a DataFrame.\n",
    "df = spark.read.option(\"header\", \"true\").csv(\"2016_full.csv\")\n",
    "\n",
    "\n",
    "all_airports_vertices = getAllAirports(df)\n",
    "all_trip_edges = getAllTrips(df)\n",
    "\n",
    "all_airports_vertices.head()\n",
    "all_trip_edges.head()\n",
    "\n",
    "\n",
    "tripGraph = GraphFrame(all_airports_vertices,all_trip_edges)\n",
    "#tripGraph.vertices.head()\n",
    "#tripGraph.edges.head()\n",
    "tripGraph.degrees.show()\n",
    "# print(\"there is %d airports\" %tripGraph.vertices.head())\n",
    "# print(\"there is %d trips\" %tripGraph.edges.head())\n",
    "\n",
    "\n",
    "\n",
    "\n",
    "\n",
    "\n",
    "\n",
    "\n",
    "\n",
    "\n",
    "\n"
   ]
  },
  {
   "cell_type": "code",
   "execution_count": null,
   "metadata": {},
   "outputs": [],
   "source": []
  }
 ],
 "metadata": {
  "kernelspec": {
   "display_name": "Python 3",
   "language": "python",
   "name": "python3"
  },
  "language_info": {
   "codemirror_mode": {
    "name": "ipython",
    "version": 3
   },
   "file_extension": ".py",
   "mimetype": "text/x-python",
   "name": "python",
   "nbconvert_exporter": "python",
   "pygments_lexer": "ipython3",
   "version": "3.7.4"
  }
 },
 "nbformat": 4,
 "nbformat_minor": 2
}
