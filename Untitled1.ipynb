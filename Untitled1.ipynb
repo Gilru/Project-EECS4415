{
 "cells": [
  {
   "cell_type": "code",
   "execution_count": 3,
   "metadata": {},
   "outputs": [],
   "source": [
    "from graphframes import *\n"
   ]
  },
  {
   "cell_type": "code",
   "execution_count": 32,
   "metadata": {},
   "outputs": [
    {
     "name": "stdout",
     "output_type": "stream",
     "text": [
      "+-------+------------------+\n",
      "|QUARTER|    avg(ARR_DELAY)|\n",
      "+-------+------------------+\n",
      "|      3| 6.453750067133005|\n",
      "|      2| 3.416892585681157|\n",
      "|      1|1.8373855827671222|\n",
      "|      4|1.5655068971827426|\n",
      "+-------+------------------+\n",
      "\n"
     ]
    }
   ],
   "source": [
    "from pyspark.sql import SparkSession\n",
    "from graphframes import *\n",
    "from pyspark.sql.types import *\n",
    "\n",
    "spark = SparkSession \\\n",
    "    .builder \\\n",
    "    .appName(\"Graph\") \\\n",
    "    .getOrCreate()\n",
    "def clean_data(df):\n",
    "     df = df.withColumn(\"DEP_DELAY\", df[\"DEP_DELAY\"].cast(DoubleType()))\n",
    "     df = df.withColumn(\"ARR_DELAY\", df[\"ARR_DELAY\"].cast(DoubleType()))\n",
    "    \n",
    "     return df\n",
    "    \n",
    "def getAllAirports(df):\n",
    "  all_airports_vertices = df.select('ORIGIN_AIRPORT_ID','ORIGIN_CITY_NAME').distinct()\n",
    "  return all_airports_vertices.withColumnRenamed('ORIGIN_AIRPORT_ID', \"id\")\n",
    "\n",
    "\n",
    "def getAllTrips(df):\n",
    "  all_trip_edges = df.select('ORIGIN_AIRPORT_ID','ORIGIN_CITY_NAME','DEST_AIRPORT_ID','DEST_CITY_NAME','DEP_DELAY',\"ARR_DELAY\",'CARRIER_DELAY','WEATHER_DELAY','OP_UNIQUE_CARRIER','QUARTER')\n",
    "  return all_trip_edges.withColumnRenamed(\"ORIGIN_AIRPORT_ID\",\"src\").withColumnRenamed(\"DEST_AIRPORT_ID\",\"dst\")\n",
    "\n",
    "\n",
    "def city_with_most_delay(tripGraph):\n",
    "     delay = tripGraph.edges.groupBy(\"src\", \"dst\",\"ORIGIN_CITY_NAME\",\"DEST_CITY_NAME\").avg(\"ARR_DELAY\").sort(\"avg(ARR_DELAY)\",ascending=False)\n",
    "     delay.show() \n",
    "    \n",
    "def airline_with_most_delay(tripGraph):\n",
    "    delay = tripGraph.edges.groupBy('OP_UNIQUE_CARRIER').avg(\"ARR_DELAY\").sort(\"avg(ARR_DELAY)\",ascending=False)\n",
    "    delay.show()\n",
    "    \n",
    "def time_with_high_prob_delay(tripGraph):\n",
    "    delay = tripGraph.edges.groupBy('QUARTER').avg(\"ARR_DELAY\").sort(\"avg(ARR_DELAY)\",ascending=False)\n",
    "    delay.show()    \n",
    "    \n",
    "    \n",
    "def cause_of_the_delay(tripGraph):\n",
    "    pass\n",
    "    \n",
    "    \n",
    "    \n",
    "    \n",
    "\n",
    "\n",
    "# ------------------------------TEST----------------------------------------------\n",
    "# The result of loading a parquet file is also a DataFrame.\n",
    "df = spark.read.option(\"header\", \"true\").csv(\"2016_full.csv\")\n",
    "df = clean_data(df)\n",
    "\n",
    "\n",
    "all_airports_vertices = getAllAirports(df)\n",
    "all_trip_edges = getAllTrips(df)\n",
    "\n",
    "all_airports_vertices.head()\n",
    "all_trip_edges.head()\n",
    "\n",
    "\n",
    "tripGraph = GraphFrame(all_airports_vertices,all_trip_edges)\n",
    "#tripGraph.edges.head()\n",
    "#city_with_most_delay(tripGraph)\n",
    "#airline_with_most_delay(tripGraph)\n",
    "time_with_high_prob_delay(tripGraph)\n",
    "\n",
    "\n",
    "\n",
    "\n",
    "\n",
    "\n",
    "\n",
    "\n",
    "\n",
    "\n",
    "\n"
   ]
  },
  {
   "cell_type": "code",
   "execution_count": null,
   "metadata": {},
   "outputs": [],
   "source": []
  }
 ],
 "metadata": {
  "kernelspec": {
   "display_name": "Python 3",
   "language": "python",
   "name": "python3"
  },
  "language_info": {
   "codemirror_mode": {
    "name": "ipython",
    "version": 3
   },
   "file_extension": ".py",
   "mimetype": "text/x-python",
   "name": "python",
   "nbconvert_exporter": "python",
   "pygments_lexer": "ipython3",
   "version": "3.7.4"
  }
 },
 "nbformat": 4,
 "nbformat_minor": 2
}
