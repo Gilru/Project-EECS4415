{
 "cells": [
  {
   "cell_type": "markdown",
   "metadata": {},
   "source": [
    "# Data Ingestion\n",
    "\n",
    "#### Our Plan in this project was to use spark to process CSV files coming from the Bureau of Transportation Statistics and use graphframe to load data in which airport are represented as vertices and flight as edges. We have encountered some problems in that process.\n",
    "\n",
    "* ##### We quickly realized that spark has a lot of dependencies, some of our functions didn't work because we didn't have the right scala version install or the right python version install.\n",
    "* ##### it 's was easier for us to move to panda and Jupyter because panda only require python\n",
    "\n"
   ]
  },
  {
   "cell_type": "code",
   "execution_count": 1,
   "metadata": {},
   "outputs": [],
   "source": [
    "import pandas as pd"
   ]
  },
  {
   "cell_type": "markdown",
   "metadata": {},
   "source": [
    "------------------------------------------\n",
    "# 2016 data analysis\n",
    "------------------------------------------"
   ]
  },
  {
   "cell_type": "code",
   "execution_count": 51,
   "metadata": {},
   "outputs": [],
   "source": [
    "data_2016 = pd.read_csv('2016_full.csv')"
   ]
  },
  {
   "cell_type": "code",
   "execution_count": 50,
   "metadata": {},
   "outputs": [
    {
     "name": "stdout",
     "output_type": "stream",
     "text": [
      "<class 'pandas.core.frame.DataFrame'>\n",
      "RangeIndex: 6090284 entries, 0 to 6090283\n",
      "Data columns (total 37 columns):\n",
      "YEAR                     int64\n",
      "QUARTER                  int64\n",
      "FL_DATE                  object\n",
      "OP_UNIQUE_CARRIER        object\n",
      "TAIL_NUM                 object\n",
      "OP_CARRIER_FL_NUM        int64\n",
      "ORIGIN_AIRPORT_ID        int64\n",
      "ORIGIN_AIRPORT_SEQ_ID    int64\n",
      "ORIGIN_CITY_MARKET_ID    int64\n",
      "ORIGIN                   object\n",
      "ORIGIN_CITY_NAME         object\n",
      "DEST_AIRPORT_ID          int64\n",
      "DEST_AIRPORT_SEQ_ID      int64\n",
      "DEST_CITY_MARKET_ID      int64\n",
      "DEST                     object\n",
      "DEST_CITY_NAME           object\n",
      "CRS_DEP_TIME             int64\n",
      "DEP_TIME                 float64\n",
      "DEP_DELAY                float64\n",
      "TAXI_OUT                 float64\n",
      "WHEELS_OFF               float64\n",
      "WHEELS_ON                float64\n",
      "TAXI_IN                  float64\n",
      "CRS_ARR_TIME             int64\n",
      "ARR_TIME                 float64\n",
      "ARR_DELAY                float64\n",
      "CANCELLED                float64\n",
      "CANCELLATION_CODE        object\n",
      "DIVERTED                 float64\n",
      "CRS_ELAPSED_TIME         float64\n",
      "ACTUAL_ELAPSED_TIME      float64\n",
      "DISTANCE                 float64\n",
      "CARRIER_DELAY            float64\n",
      "WEATHER_DELAY            float64\n",
      "SECURITY_DELAY           float64\n",
      "LATE_AIRCRAFT_DELAY      float64\n",
      "Unnamed: 36              float64\n",
      "dtypes: float64(18), int64(11), object(8)\n",
      "memory usage: 1.7+ GB\n"
     ]
    }
   ],
   "source": [
    "data_2016.info()"
   ]
  },
  {
   "cell_type": "code",
   "execution_count": 53,
   "metadata": {},
   "outputs": [
    {
     "data": {
      "text/html": [
       "<div>\n",
       "<style scoped>\n",
       "    .dataframe tbody tr th:only-of-type {\n",
       "        vertical-align: middle;\n",
       "    }\n",
       "\n",
       "    .dataframe tbody tr th {\n",
       "        vertical-align: top;\n",
       "    }\n",
       "\n",
       "    .dataframe thead th {\n",
       "        text-align: right;\n",
       "    }\n",
       "</style>\n",
       "<table border=\"1\" class=\"dataframe\">\n",
       "  <thead>\n",
       "    <tr style=\"text-align: right;\">\n",
       "      <th></th>\n",
       "      <th>YEAR</th>\n",
       "      <th>QUARTER</th>\n",
       "      <th>OP_CARRIER_FL_NUM</th>\n",
       "      <th>ORIGIN_AIRPORT_ID</th>\n",
       "      <th>ORIGIN_AIRPORT_SEQ_ID</th>\n",
       "      <th>ORIGIN_CITY_MARKET_ID</th>\n",
       "      <th>DEST_AIRPORT_ID</th>\n",
       "      <th>DEST_AIRPORT_SEQ_ID</th>\n",
       "      <th>DEST_CITY_MARKET_ID</th>\n",
       "      <th>CRS_DEP_TIME</th>\n",
       "      <th>...</th>\n",
       "      <th>CANCELLED</th>\n",
       "      <th>DIVERTED</th>\n",
       "      <th>CRS_ELAPSED_TIME</th>\n",
       "      <th>ACTUAL_ELAPSED_TIME</th>\n",
       "      <th>DISTANCE</th>\n",
       "      <th>CARRIER_DELAY</th>\n",
       "      <th>WEATHER_DELAY</th>\n",
       "      <th>SECURITY_DELAY</th>\n",
       "      <th>LATE_AIRCRAFT_DELAY</th>\n",
       "      <th>Unnamed: 36</th>\n",
       "    </tr>\n",
       "  </thead>\n",
       "  <tbody>\n",
       "    <tr>\n",
       "      <td>count</td>\n",
       "      <td>6090284.0</td>\n",
       "      <td>6.090284e+06</td>\n",
       "      <td>6.090284e+06</td>\n",
       "      <td>6.090284e+06</td>\n",
       "      <td>6.090284e+06</td>\n",
       "      <td>6.090284e+06</td>\n",
       "      <td>6.090284e+06</td>\n",
       "      <td>6.090284e+06</td>\n",
       "      <td>6.090284e+06</td>\n",
       "      <td>6.090284e+06</td>\n",
       "      <td>...</td>\n",
       "      <td>6.090284e+06</td>\n",
       "      <td>6.090284e+06</td>\n",
       "      <td>6.090277e+06</td>\n",
       "      <td>6.005631e+06</td>\n",
       "      <td>6.090284e+06</td>\n",
       "      <td>1.027709e+06</td>\n",
       "      <td>1.027709e+06</td>\n",
       "      <td>1.027709e+06</td>\n",
       "      <td>1.027709e+06</td>\n",
       "      <td>0.0</td>\n",
       "    </tr>\n",
       "    <tr>\n",
       "      <td>mean</td>\n",
       "      <td>2016.0</td>\n",
       "      <td>2.627413e+00</td>\n",
       "      <td>2.071916e+03</td>\n",
       "      <td>1.267975e+04</td>\n",
       "      <td>1.267978e+06</td>\n",
       "      <td>3.171682e+04</td>\n",
       "      <td>1.267961e+04</td>\n",
       "      <td>1.267964e+06</td>\n",
       "      <td>3.171679e+04</td>\n",
       "      <td>1.330539e+03</td>\n",
       "      <td>...</td>\n",
       "      <td>1.156071e-02</td>\n",
       "      <td>2.338971e-03</td>\n",
       "      <td>1.452151e+02</td>\n",
       "      <td>1.399451e+02</td>\n",
       "      <td>8.489847e+02</td>\n",
       "      <td>2.017490e+01</td>\n",
       "      <td>2.599132e+00</td>\n",
       "      <td>8.305367e-02</td>\n",
       "      <td>2.408777e+01</td>\n",
       "      <td>NaN</td>\n",
       "    </tr>\n",
       "    <tr>\n",
       "      <td>std</td>\n",
       "      <td>0.0</td>\n",
       "      <td>1.134276e+00</td>\n",
       "      <td>1.695661e+03</td>\n",
       "      <td>1.534777e+03</td>\n",
       "      <td>1.534774e+05</td>\n",
       "      <td>1.281045e+03</td>\n",
       "      <td>1.534726e+03</td>\n",
       "      <td>1.534723e+05</td>\n",
       "      <td>1.280974e+03</td>\n",
       "      <td>4.888285e+02</td>\n",
       "      <td>...</td>\n",
       "      <td>1.068974e-01</td>\n",
       "      <td>4.830632e-02</td>\n",
       "      <td>7.631627e+01</td>\n",
       "      <td>7.558151e+01</td>\n",
       "      <td>6.191478e+02</td>\n",
       "      <td>5.725094e+01</td>\n",
       "      <td>2.100597e+01</td>\n",
       "      <td>2.378435e+00</td>\n",
       "      <td>4.571014e+01</td>\n",
       "      <td>NaN</td>\n",
       "    </tr>\n",
       "    <tr>\n",
       "      <td>min</td>\n",
       "      <td>2016.0</td>\n",
       "      <td>1.000000e+00</td>\n",
       "      <td>1.000000e+00</td>\n",
       "      <td>1.013500e+04</td>\n",
       "      <td>1.013503e+06</td>\n",
       "      <td>3.007000e+04</td>\n",
       "      <td>1.013500e+04</td>\n",
       "      <td>1.013503e+06</td>\n",
       "      <td>3.007000e+04</td>\n",
       "      <td>1.000000e+00</td>\n",
       "      <td>...</td>\n",
       "      <td>0.000000e+00</td>\n",
       "      <td>0.000000e+00</td>\n",
       "      <td>5.000000e+00</td>\n",
       "      <td>1.400000e+01</td>\n",
       "      <td>2.500000e+01</td>\n",
       "      <td>0.000000e+00</td>\n",
       "      <td>0.000000e+00</td>\n",
       "      <td>0.000000e+00</td>\n",
       "      <td>0.000000e+00</td>\n",
       "      <td>NaN</td>\n",
       "    </tr>\n",
       "    <tr>\n",
       "      <td>25%</td>\n",
       "      <td>2016.0</td>\n",
       "      <td>2.000000e+00</td>\n",
       "      <td>7.100000e+02</td>\n",
       "      <td>1.129200e+04</td>\n",
       "      <td>1.129202e+06</td>\n",
       "      <td>3.061500e+04</td>\n",
       "      <td>1.129200e+04</td>\n",
       "      <td>1.129202e+06</td>\n",
       "      <td>3.061500e+04</td>\n",
       "      <td>9.150000e+02</td>\n",
       "      <td>...</td>\n",
       "      <td>0.000000e+00</td>\n",
       "      <td>0.000000e+00</td>\n",
       "      <td>8.800000e+01</td>\n",
       "      <td>8.400000e+01</td>\n",
       "      <td>3.910000e+02</td>\n",
       "      <td>0.000000e+00</td>\n",
       "      <td>0.000000e+00</td>\n",
       "      <td>0.000000e+00</td>\n",
       "      <td>0.000000e+00</td>\n",
       "      <td>NaN</td>\n",
       "    </tr>\n",
       "    <tr>\n",
       "      <td>50%</td>\n",
       "      <td>2016.0</td>\n",
       "      <td>3.000000e+00</td>\n",
       "      <td>1.635000e+03</td>\n",
       "      <td>1.288900e+04</td>\n",
       "      <td>1.288903e+06</td>\n",
       "      <td>3.145300e+04</td>\n",
       "      <td>1.288900e+04</td>\n",
       "      <td>1.288903e+06</td>\n",
       "      <td>3.145300e+04</td>\n",
       "      <td>1.325000e+03</td>\n",
       "      <td>...</td>\n",
       "      <td>0.000000e+00</td>\n",
       "      <td>0.000000e+00</td>\n",
       "      <td>1.260000e+02</td>\n",
       "      <td>1.210000e+02</td>\n",
       "      <td>6.780000e+02</td>\n",
       "      <td>1.000000e+00</td>\n",
       "      <td>0.000000e+00</td>\n",
       "      <td>0.000000e+00</td>\n",
       "      <td>2.000000e+00</td>\n",
       "      <td>NaN</td>\n",
       "    </tr>\n",
       "    <tr>\n",
       "      <td>75%</td>\n",
       "      <td>2016.0</td>\n",
       "      <td>4.000000e+00</td>\n",
       "      <td>2.846000e+03</td>\n",
       "      <td>1.405700e+04</td>\n",
       "      <td>1.405702e+06</td>\n",
       "      <td>3.246700e+04</td>\n",
       "      <td>1.405700e+04</td>\n",
       "      <td>1.405702e+06</td>\n",
       "      <td>3.246700e+04</td>\n",
       "      <td>1.735000e+03</td>\n",
       "      <td>...</td>\n",
       "      <td>0.000000e+00</td>\n",
       "      <td>0.000000e+00</td>\n",
       "      <td>1.770000e+02</td>\n",
       "      <td>1.730000e+02</td>\n",
       "      <td>1.090000e+03</td>\n",
       "      <td>1.800000e+01</td>\n",
       "      <td>0.000000e+00</td>\n",
       "      <td>0.000000e+00</td>\n",
       "      <td>2.900000e+01</td>\n",
       "      <td>NaN</td>\n",
       "    </tr>\n",
       "    <tr>\n",
       "      <td>max</td>\n",
       "      <td>2016.0</td>\n",
       "      <td>4.000000e+00</td>\n",
       "      <td>8.402000e+03</td>\n",
       "      <td>1.621800e+04</td>\n",
       "      <td>1.621801e+06</td>\n",
       "      <td>3.599100e+04</td>\n",
       "      <td>1.621800e+04</td>\n",
       "      <td>1.621801e+06</td>\n",
       "      <td>3.599100e+04</td>\n",
       "      <td>2.359000e+03</td>\n",
       "      <td>...</td>\n",
       "      <td>1.000000e+00</td>\n",
       "      <td>1.000000e+00</td>\n",
       "      <td>7.050000e+02</td>\n",
       "      <td>7.780000e+02</td>\n",
       "      <td>4.983000e+03</td>\n",
       "      <td>2.142000e+03</td>\n",
       "      <td>1.157000e+03</td>\n",
       "      <td>4.740000e+02</td>\n",
       "      <td>1.484000e+03</td>\n",
       "      <td>NaN</td>\n",
       "    </tr>\n",
       "  </tbody>\n",
       "</table>\n",
       "<p>8 rows × 29 columns</p>\n",
       "</div>"
      ],
      "text/plain": [
       "            YEAR       QUARTER  OP_CARRIER_FL_NUM  ORIGIN_AIRPORT_ID  \\\n",
       "count  6090284.0  6.090284e+06       6.090284e+06       6.090284e+06   \n",
       "mean      2016.0  2.627413e+00       2.071916e+03       1.267975e+04   \n",
       "std          0.0  1.134276e+00       1.695661e+03       1.534777e+03   \n",
       "min       2016.0  1.000000e+00       1.000000e+00       1.013500e+04   \n",
       "25%       2016.0  2.000000e+00       7.100000e+02       1.129200e+04   \n",
       "50%       2016.0  3.000000e+00       1.635000e+03       1.288900e+04   \n",
       "75%       2016.0  4.000000e+00       2.846000e+03       1.405700e+04   \n",
       "max       2016.0  4.000000e+00       8.402000e+03       1.621800e+04   \n",
       "\n",
       "       ORIGIN_AIRPORT_SEQ_ID  ORIGIN_CITY_MARKET_ID  DEST_AIRPORT_ID  \\\n",
       "count           6.090284e+06           6.090284e+06     6.090284e+06   \n",
       "mean            1.267978e+06           3.171682e+04     1.267961e+04   \n",
       "std             1.534774e+05           1.281045e+03     1.534726e+03   \n",
       "min             1.013503e+06           3.007000e+04     1.013500e+04   \n",
       "25%             1.129202e+06           3.061500e+04     1.129200e+04   \n",
       "50%             1.288903e+06           3.145300e+04     1.288900e+04   \n",
       "75%             1.405702e+06           3.246700e+04     1.405700e+04   \n",
       "max             1.621801e+06           3.599100e+04     1.621800e+04   \n",
       "\n",
       "       DEST_AIRPORT_SEQ_ID  DEST_CITY_MARKET_ID  CRS_DEP_TIME  ...  \\\n",
       "count         6.090284e+06         6.090284e+06  6.090284e+06  ...   \n",
       "mean          1.267964e+06         3.171679e+04  1.330539e+03  ...   \n",
       "std           1.534723e+05         1.280974e+03  4.888285e+02  ...   \n",
       "min           1.013503e+06         3.007000e+04  1.000000e+00  ...   \n",
       "25%           1.129202e+06         3.061500e+04  9.150000e+02  ...   \n",
       "50%           1.288903e+06         3.145300e+04  1.325000e+03  ...   \n",
       "75%           1.405702e+06         3.246700e+04  1.735000e+03  ...   \n",
       "max           1.621801e+06         3.599100e+04  2.359000e+03  ...   \n",
       "\n",
       "          CANCELLED      DIVERTED  CRS_ELAPSED_TIME  ACTUAL_ELAPSED_TIME  \\\n",
       "count  6.090284e+06  6.090284e+06      6.090277e+06         6.005631e+06   \n",
       "mean   1.156071e-02  2.338971e-03      1.452151e+02         1.399451e+02   \n",
       "std    1.068974e-01  4.830632e-02      7.631627e+01         7.558151e+01   \n",
       "min    0.000000e+00  0.000000e+00      5.000000e+00         1.400000e+01   \n",
       "25%    0.000000e+00  0.000000e+00      8.800000e+01         8.400000e+01   \n",
       "50%    0.000000e+00  0.000000e+00      1.260000e+02         1.210000e+02   \n",
       "75%    0.000000e+00  0.000000e+00      1.770000e+02         1.730000e+02   \n",
       "max    1.000000e+00  1.000000e+00      7.050000e+02         7.780000e+02   \n",
       "\n",
       "           DISTANCE  CARRIER_DELAY  WEATHER_DELAY  SECURITY_DELAY  \\\n",
       "count  6.090284e+06   1.027709e+06   1.027709e+06    1.027709e+06   \n",
       "mean   8.489847e+02   2.017490e+01   2.599132e+00    8.305367e-02   \n",
       "std    6.191478e+02   5.725094e+01   2.100597e+01    2.378435e+00   \n",
       "min    2.500000e+01   0.000000e+00   0.000000e+00    0.000000e+00   \n",
       "25%    3.910000e+02   0.000000e+00   0.000000e+00    0.000000e+00   \n",
       "50%    6.780000e+02   1.000000e+00   0.000000e+00    0.000000e+00   \n",
       "75%    1.090000e+03   1.800000e+01   0.000000e+00    0.000000e+00   \n",
       "max    4.983000e+03   2.142000e+03   1.157000e+03    4.740000e+02   \n",
       "\n",
       "       LATE_AIRCRAFT_DELAY  Unnamed: 36  \n",
       "count         1.027709e+06          0.0  \n",
       "mean          2.408777e+01          NaN  \n",
       "std           4.571014e+01          NaN  \n",
       "min           0.000000e+00          NaN  \n",
       "25%           0.000000e+00          NaN  \n",
       "50%           2.000000e+00          NaN  \n",
       "75%           2.900000e+01          NaN  \n",
       "max           1.484000e+03          NaN  \n",
       "\n",
       "[8 rows x 29 columns]"
      ]
     },
     "execution_count": 53,
     "metadata": {},
     "output_type": "execute_result"
    }
   ],
   "source": [
    "data_2016.describe()"
   ]
  },
  {
   "cell_type": "code",
   "execution_count": 54,
   "metadata": {},
   "outputs": [
    {
     "data": {
      "text/html": [
       "<div>\n",
       "<style scoped>\n",
       "    .dataframe tbody tr th:only-of-type {\n",
       "        vertical-align: middle;\n",
       "    }\n",
       "\n",
       "    .dataframe tbody tr th {\n",
       "        vertical-align: top;\n",
       "    }\n",
       "\n",
       "    .dataframe thead th {\n",
       "        text-align: right;\n",
       "    }\n",
       "</style>\n",
       "<table border=\"1\" class=\"dataframe\">\n",
       "  <thead>\n",
       "    <tr style=\"text-align: right;\">\n",
       "      <th></th>\n",
       "      <th>YEAR</th>\n",
       "      <th>QUARTER</th>\n",
       "      <th>FL_DATE</th>\n",
       "      <th>OP_UNIQUE_CARRIER</th>\n",
       "      <th>TAIL_NUM</th>\n",
       "      <th>OP_CARRIER_FL_NUM</th>\n",
       "      <th>ORIGIN_AIRPORT_ID</th>\n",
       "      <th>ORIGIN_AIRPORT_SEQ_ID</th>\n",
       "      <th>ORIGIN_CITY_MARKET_ID</th>\n",
       "      <th>ORIGIN</th>\n",
       "      <th>...</th>\n",
       "      <th>CANCELLATION_CODE</th>\n",
       "      <th>DIVERTED</th>\n",
       "      <th>CRS_ELAPSED_TIME</th>\n",
       "      <th>ACTUAL_ELAPSED_TIME</th>\n",
       "      <th>DISTANCE</th>\n",
       "      <th>CARRIER_DELAY</th>\n",
       "      <th>WEATHER_DELAY</th>\n",
       "      <th>SECURITY_DELAY</th>\n",
       "      <th>LATE_AIRCRAFT_DELAY</th>\n",
       "      <th>Unnamed: 36</th>\n",
       "    </tr>\n",
       "  </thead>\n",
       "  <tbody>\n",
       "    <tr>\n",
       "      <td>0</td>\n",
       "      <td>2016</td>\n",
       "      <td>1</td>\n",
       "      <td>2016-01-01</td>\n",
       "      <td>DL</td>\n",
       "      <td>N3754A</td>\n",
       "      <td>1248</td>\n",
       "      <td>11433</td>\n",
       "      <td>1143302</td>\n",
       "      <td>31295</td>\n",
       "      <td>DTW</td>\n",
       "      <td>...</td>\n",
       "      <td>NaN</td>\n",
       "      <td>0.0</td>\n",
       "      <td>309.0</td>\n",
       "      <td>285.0</td>\n",
       "      <td>1979.0</td>\n",
       "      <td>NaN</td>\n",
       "      <td>NaN</td>\n",
       "      <td>NaN</td>\n",
       "      <td>NaN</td>\n",
       "      <td>NaN</td>\n",
       "    </tr>\n",
       "    <tr>\n",
       "      <td>1</td>\n",
       "      <td>2016</td>\n",
       "      <td>1</td>\n",
       "      <td>2016-01-01</td>\n",
       "      <td>DL</td>\n",
       "      <td>N923DL</td>\n",
       "      <td>1251</td>\n",
       "      <td>10397</td>\n",
       "      <td>1039705</td>\n",
       "      <td>30397</td>\n",
       "      <td>ATL</td>\n",
       "      <td>...</td>\n",
       "      <td>NaN</td>\n",
       "      <td>0.0</td>\n",
       "      <td>116.0</td>\n",
       "      <td>109.0</td>\n",
       "      <td>640.0</td>\n",
       "      <td>NaN</td>\n",
       "      <td>NaN</td>\n",
       "      <td>NaN</td>\n",
       "      <td>NaN</td>\n",
       "      <td>NaN</td>\n",
       "    </tr>\n",
       "    <tr>\n",
       "      <td>2</td>\n",
       "      <td>2016</td>\n",
       "      <td>1</td>\n",
       "      <td>2016-01-01</td>\n",
       "      <td>DL</td>\n",
       "      <td>N551NW</td>\n",
       "      <td>1254</td>\n",
       "      <td>12892</td>\n",
       "      <td>1289203</td>\n",
       "      <td>32575</td>\n",
       "      <td>LAX</td>\n",
       "      <td>...</td>\n",
       "      <td>NaN</td>\n",
       "      <td>0.0</td>\n",
       "      <td>245.0</td>\n",
       "      <td>231.0</td>\n",
       "      <td>1947.0</td>\n",
       "      <td>NaN</td>\n",
       "      <td>NaN</td>\n",
       "      <td>NaN</td>\n",
       "      <td>NaN</td>\n",
       "      <td>NaN</td>\n",
       "    </tr>\n",
       "    <tr>\n",
       "      <td>3</td>\n",
       "      <td>2016</td>\n",
       "      <td>1</td>\n",
       "      <td>2016-01-01</td>\n",
       "      <td>DL</td>\n",
       "      <td>N334NW</td>\n",
       "      <td>1255</td>\n",
       "      <td>14869</td>\n",
       "      <td>1486903</td>\n",
       "      <td>34614</td>\n",
       "      <td>SLC</td>\n",
       "      <td>...</td>\n",
       "      <td>NaN</td>\n",
       "      <td>0.0</td>\n",
       "      <td>213.0</td>\n",
       "      <td>193.0</td>\n",
       "      <td>1590.0</td>\n",
       "      <td>NaN</td>\n",
       "      <td>NaN</td>\n",
       "      <td>NaN</td>\n",
       "      <td>NaN</td>\n",
       "      <td>NaN</td>\n",
       "    </tr>\n",
       "    <tr>\n",
       "      <td>4</td>\n",
       "      <td>2016</td>\n",
       "      <td>1</td>\n",
       "      <td>2016-01-01</td>\n",
       "      <td>DL</td>\n",
       "      <td>N675DL</td>\n",
       "      <td>1256</td>\n",
       "      <td>10849</td>\n",
       "      <td>1084903</td>\n",
       "      <td>30849</td>\n",
       "      <td>BZN</td>\n",
       "      <td>...</td>\n",
       "      <td>NaN</td>\n",
       "      <td>0.0</td>\n",
       "      <td>136.0</td>\n",
       "      <td>188.0</td>\n",
       "      <td>874.0</td>\n",
       "      <td>72.0</td>\n",
       "      <td>0.0</td>\n",
       "      <td>0.0</td>\n",
       "      <td>0.0</td>\n",
       "      <td>NaN</td>\n",
       "    </tr>\n",
       "  </tbody>\n",
       "</table>\n",
       "<p>5 rows × 37 columns</p>\n",
       "</div>"
      ],
      "text/plain": [
       "   YEAR  QUARTER     FL_DATE OP_UNIQUE_CARRIER TAIL_NUM  OP_CARRIER_FL_NUM  \\\n",
       "0  2016        1  2016-01-01                DL   N3754A               1248   \n",
       "1  2016        1  2016-01-01                DL   N923DL               1251   \n",
       "2  2016        1  2016-01-01                DL   N551NW               1254   \n",
       "3  2016        1  2016-01-01                DL   N334NW               1255   \n",
       "4  2016        1  2016-01-01                DL   N675DL               1256   \n",
       "\n",
       "   ORIGIN_AIRPORT_ID  ORIGIN_AIRPORT_SEQ_ID  ORIGIN_CITY_MARKET_ID ORIGIN  \\\n",
       "0              11433                1143302                  31295    DTW   \n",
       "1              10397                1039705                  30397    ATL   \n",
       "2              12892                1289203                  32575    LAX   \n",
       "3              14869                1486903                  34614    SLC   \n",
       "4              10849                1084903                  30849    BZN   \n",
       "\n",
       "   ... CANCELLATION_CODE  DIVERTED  CRS_ELAPSED_TIME  ACTUAL_ELAPSED_TIME  \\\n",
       "0  ...               NaN       0.0             309.0                285.0   \n",
       "1  ...               NaN       0.0             116.0                109.0   \n",
       "2  ...               NaN       0.0             245.0                231.0   \n",
       "3  ...               NaN       0.0             213.0                193.0   \n",
       "4  ...               NaN       0.0             136.0                188.0   \n",
       "\n",
       "  DISTANCE CARRIER_DELAY  WEATHER_DELAY  SECURITY_DELAY  LATE_AIRCRAFT_DELAY  \\\n",
       "0   1979.0           NaN            NaN             NaN                  NaN   \n",
       "1    640.0           NaN            NaN             NaN                  NaN   \n",
       "2   1947.0           NaN            NaN             NaN                  NaN   \n",
       "3   1590.0           NaN            NaN             NaN                  NaN   \n",
       "4    874.0          72.0            0.0             0.0                  0.0   \n",
       "\n",
       "   Unnamed: 36  \n",
       "0          NaN  \n",
       "1          NaN  \n",
       "2          NaN  \n",
       "3          NaN  \n",
       "4          NaN  \n",
       "\n",
       "[5 rows x 37 columns]"
      ]
     },
     "execution_count": 54,
     "metadata": {},
     "output_type": "execute_result"
    }
   ],
   "source": [
    "data_2016.head()"
   ]
  },
  {
   "cell_type": "markdown",
   "metadata": {},
   "source": [
    "# Data Cleaning\n",
    "\n",
    "### As We can see in the above schema We don't need to do any cleaning on the data\n"
   ]
  },
  {
   "cell_type": "markdown",
   "metadata": {},
   "source": [
    "# Questions to answer (2016)"
   ]
  },
  {
   "cell_type": "markdown",
   "metadata": {},
   "source": [
    "### Which Trip have the most delays and cancellations?"
   ]
  },
  {
   "cell_type": "code",
   "execution_count": 55,
   "metadata": {},
   "outputs": [],
   "source": [
    "trip_with_delay_2016 = data_2016.groupby([\"ORIGIN_CITY_NAME\",\"DEST_CITY_NAME\"])[\"ARR_DELAY\"].mean()\\\n",
    ".sort_values(ascending=False).head(10)"
   ]
  },
  {
   "cell_type": "code",
   "execution_count": 56,
   "metadata": {},
   "outputs": [
    {
     "data": {
      "text/plain": [
       "ORIGIN_CITY_NAME           DEST_CITY_NAME     \n",
       "Akron, OH                  Knoxville, TN          1237.000000\n",
       "Juneau, AK                 Fairbanks, AK           334.000000\n",
       "Long Beach, CA             Fort Lauderdale, FL     295.000000\n",
       "Cleveland, OH              Erie, PA                177.000000\n",
       "Twin Falls, ID             Los Angeles, CA         170.250000\n",
       "Jackson, WY                New York, NY            145.600000\n",
       "Aspen, CO                  Salt Lake City, UT      141.538462\n",
       "Newburgh/Poughkeepsie, NY  Boston, MA              138.000000\n",
       "Long Beach, CA             Buffalo, NY             137.000000\n",
       "Houston, TX                Springfield, MO         128.000000\n",
       "Name: ARR_DELAY, dtype: float64"
      ]
     },
     "execution_count": 56,
     "metadata": {},
     "output_type": "execute_result"
    }
   ],
   "source": [
    "trip_with_delay_2016"
   ]
  },
  {
   "cell_type": "markdown",
   "metadata": {},
   "source": [
    "# Vizualization With matplotlib"
   ]
  },
  {
   "cell_type": "code",
   "execution_count": 39,
   "metadata": {},
   "outputs": [],
   "source": [
    "%matplotlib inline"
   ]
  },
  {
   "cell_type": "code",
   "execution_count": 57,
   "metadata": {},
   "outputs": [
    {
     "data": {
      "text/plain": [
       "<matplotlib.axes._subplots.AxesSubplot at 0x117bb7d50>"
      ]
     },
     "execution_count": 57,
     "metadata": {},
     "output_type": "execute_result"
    },
    {
     "data": {
      "image/png": "[encoded data removed]",
      "text/plain": [
       "<Figure size 432x288 with 1 Axes>"
      ]
     },
     "metadata": {
      "needs_background": "light"
     },
     "output_type": "display_data"
    }
   ],
   "source": [
    "trip_with_delay_2016.plot(kind='bar', x='ORIGIN_CITY_NAME', y='ARR_DELAY')"
   ]
  },
  {
   "cell_type": "markdown",
   "metadata": {},
   "source": [
    "## Which Airline companies have the most cancellations ?"
   ]
  },
  {
   "cell_type": "code",
   "execution_count": 68,
   "metadata": {},
   "outputs": [],
   "source": [
    "airline_with_most_cancellations_2016 = data_2016.groupby(\"OP_UNIQUE_CARRIER\")[\"CANCELLATION_CODE\"].apply(lambda x: x.notnull().sum())\\\n",
    ".sort_values(ascending=False).head(10)"
   ]
  },
  {
   "cell_type": "code",
   "execution_count": 69,
   "metadata": {},
   "outputs": [
    {
     "data": {
      "text/plain": [
       "OP_UNIQUE_CARRIER\n",
       "WN    16802\n",
       "EV    12207\n",
       "AA    11692\n",
       "OO     8979\n",
       "UA     5819\n",
       "DL     4589\n",
       "B6     4333\n",
       "NK     2924\n",
       "F9     1301\n",
       "AS      899\n",
       "Name: CANCELLATION_CODE, dtype: int64"
      ]
     },
     "execution_count": 69,
     "metadata": {},
     "output_type": "execute_result"
    }
   ],
   "source": [
    "airline_with_most_cancellations_2016"
   ]
  },
  {
   "cell_type": "code",
   "execution_count": 70,
   "metadata": {},
   "outputs": [
    {
     "data": {
      "text/plain": [
       "<matplotlib.axes._subplots.AxesSubplot at 0x14ed91e90>"
      ]
     },
     "execution_count": 70,
     "metadata": {},
     "output_type": "execute_result"
    },
    {
     "data": {
      "image/png": "[encoded data removed]",
      "text/plain": [
       "<Figure size 432x288 with 1 Axes>"
      ]
     },
     "metadata": {
      "needs_background": "light"
     },
     "output_type": "display_data"
    }
   ],
   "source": [
    "airline_with_most_cancellations_2016.plot(kind='bar', x='OP_UNIQUE_CARRIER')"
   ]
  },
  {
   "cell_type": "markdown",
   "metadata": {},
   "source": [
    "# most common cause of delays\n"
   ]
  },
  {
   "cell_type": "code",
   "execution_count": 77,
   "metadata": {},
   "outputs": [],
   "source": [
    "weather_2016_delays_count = data[data['WEATHER_DELAY'] > 0.0][\"WEATHER_DELAY\"].notnull().sum()"
   ]
  },
  {
   "cell_type": "code",
   "execution_count": 82,
   "metadata": {},
   "outputs": [
    {
     "data": {
      "text/plain": [
       "51458"
      ]
     },
     "execution_count": 82,
     "metadata": {},
     "output_type": "execute_result"
    }
   ],
   "source": [
    "weather_2016_delays_count"
   ]
  },
  {
   "cell_type": "code",
   "execution_count": 78,
   "metadata": {},
   "outputs": [],
   "source": [
    "security_2016_delays_count = data[data['SECURITY_DELAY'] > 0.0]['SECURITY_DELAY'].notnull().sum()"
   ]
  },
  {
   "cell_type": "code",
   "execution_count": 83,
   "metadata": {},
   "outputs": [
    {
     "data": {
      "text/plain": [
       "3441"
      ]
     },
     "execution_count": 83,
     "metadata": {},
     "output_type": "execute_result"
    }
   ],
   "source": [
    "security_2016_delays_count"
   ]
  },
  {
   "cell_type": "code",
   "execution_count": 85,
   "metadata": {},
   "outputs": [],
   "source": [
    "late_aircraft_2016_delays_count = data[data['LATE_AIRCRAFT_DELAY'] > 0.0]['LATE_AIRCRAFT_DELAY'].notnull().sum()"
   ]
  },
  {
   "cell_type": "code",
   "execution_count": 86,
   "metadata": {},
   "outputs": [
    {
     "data": {
      "text/plain": [
       "528510"
      ]
     },
     "execution_count": 86,
     "metadata": {},
     "output_type": "execute_result"
    }
   ],
   "source": [
    "late_aircraft_2016_delays_count"
   ]
  },
  {
   "cell_type": "code",
   "execution_count": 87,
   "metadata": {},
   "outputs": [],
   "source": [
    "carrier_2016_delays_count = data[data['CARRIER_DELAY'] > 0.0]['CARRIER_DELAY'].notnull().sum()"
   ]
  },
  {
   "cell_type": "code",
   "execution_count": 88,
   "metadata": {},
   "outputs": [
    {
     "data": {
      "text/plain": [
       "533137"
      ]
     },
     "execution_count": 88,
     "metadata": {},
     "output_type": "execute_result"
    }
   ],
   "source": [
    "carrier_2016_delays_count"
   ]
  },
  {
   "cell_type": "markdown",
   "metadata": {},
   "source": [
    "# Now We need to create a new dataframe with the data with have and then vizualize it"
   ]
  },
  {
   "cell_type": "code",
   "execution_count": 101,
   "metadata": {},
   "outputs": [],
   "source": [
    "delay_causes_data = {\n",
    "    \"Delays Causes\":  [\"SECURITY_DELAY\",\"WEATHER_DELAY\",\"LATE_AIRCRAFT_DELAY\",\"CARRIER_DELAY\"],\n",
    "    \"Values\": [security_2016_delays_count,weather_2016_delays_count,late_aircraft_2016_delays_count,\n",
    "               carrier_2016_delays_count]\n",
    "   \n",
    "}"
   ]
  },
  {
   "cell_type": "code",
   "execution_count": 106,
   "metadata": {},
   "outputs": [],
   "source": [
    "df_delays_causes = pd.DataFrame(delay_causes_data,\n",
    "                                index=[\"SECURITY_DELAY\",\"WEATHER_DELAY\",\"LATE_AIRCRAFT_DELAY\",\"CARRIER_DELAY\"])"
   ]
  },
  {
   "cell_type": "code",
   "execution_count": 107,
   "metadata": {},
   "outputs": [
    {
     "data": {
      "text/html": [
       "<div>\n",
       "<style scoped>\n",
       "    .dataframe tbody tr th:only-of-type {\n",
       "        vertical-align: middle;\n",
       "    }\n",
       "\n",
       "    .dataframe tbody tr th {\n",
       "        vertical-align: top;\n",
       "    }\n",
       "\n",
       "    .dataframe thead th {\n",
       "        text-align: right;\n",
       "    }\n",
       "</style>\n",
       "<table border=\"1\" class=\"dataframe\">\n",
       "  <thead>\n",
       "    <tr style=\"text-align: right;\">\n",
       "      <th></th>\n",
       "      <th>Delays Causes</th>\n",
       "      <th>Values</th>\n",
       "    </tr>\n",
       "  </thead>\n",
       "  <tbody>\n",
       "    <tr>\n",
       "      <td>SECURITY_DELAY</td>\n",
       "      <td>SECURITY_DELAY</td>\n",
       "      <td>3441</td>\n",
       "    </tr>\n",
       "    <tr>\n",
       "      <td>WEATHER_DELAY</td>\n",
       "      <td>WEATHER_DELAY</td>\n",
       "      <td>51458</td>\n",
       "    </tr>\n",
       "    <tr>\n",
       "      <td>LATE_AIRCRAFT_DELAY</td>\n",
       "      <td>LATE_AIRCRAFT_DELAY</td>\n",
       "      <td>528510</td>\n",
       "    </tr>\n",
       "    <tr>\n",
       "      <td>CARRIER_DELAY</td>\n",
       "      <td>CARRIER_DELAY</td>\n",
       "      <td>533137</td>\n",
       "    </tr>\n",
       "  </tbody>\n",
       "</table>\n",
       "</div>"
      ],
      "text/plain": [
       "                           Delays Causes  Values\n",
       "SECURITY_DELAY            SECURITY_DELAY    3441\n",
       "WEATHER_DELAY              WEATHER_DELAY   51458\n",
       "LATE_AIRCRAFT_DELAY  LATE_AIRCRAFT_DELAY  528510\n",
       "CARRIER_DELAY              CARRIER_DELAY  533137"
      ]
     },
     "execution_count": 107,
     "metadata": {},
     "output_type": "execute_result"
    }
   ],
   "source": [
    "df_delays_causes"
   ]
  },
  {
   "cell_type": "code",
   "execution_count": 108,
   "metadata": {},
   "outputs": [
    {
     "data": {
      "text/plain": [
       "<matplotlib.axes._subplots.AxesSubplot at 0x161e73fd0>"
      ]
     },
     "execution_count": 108,
     "metadata": {},
     "output_type": "execute_result"
    },
    {
     "data": {
      "image/png": "[encoded data removed]",
      "text/plain": [
       "<Figure size 432x288 with 1 Axes>"
      ]
     },
     "metadata": {
      "needs_background": "light"
     },
     "output_type": "display_data"
    }
   ],
   "source": [
    "df_delays_causes.plot(kind='bar',x=\"Delays Causes\", y=\"Values\")"
   ]
  },
  {
   "cell_type": "code",
   "execution_count": 109,
   "metadata": {},
   "outputs": [
    {
     "data": {
      "text/plain": [
       "<matplotlib.axes._subplots.AxesSubplot at 0x16c0768d0>"
      ]
     },
     "execution_count": 109,
     "metadata": {},
     "output_type": "execute_result"
    },
    {
     "data": {
      "image/png": "[encoded data removed]",
      "text/plain": [
       "<Figure size 432x288 with 1 Axes>"
      ]
     },
     "metadata": {},
     "output_type": "display_data"
    }
   ],
   "source": [
    "df_delays_causes.plot(kind='pie',x=\"Delays Causes\", y=\"Values\")"
   ]
  },
  {
   "cell_type": "code",
   "execution_count": null,
   "metadata": {},
   "outputs": [],
   "source": []
  }
 ],
 "metadata": {
  "kernelspec": {
   "display_name": "Python 3",
   "language": "python",
   "name": "python3"
  },
  "language_info": {
   "codemirror_mode": {
    "name": "ipython",
    "version": 3
   },
   "file_extension": ".py",
   "mimetype": "text/x-python",
   "name": "python",
   "nbconvert_exporter": "python",
   "pygments_lexer": "ipython3",
   "version": "3.7.4"
  }
 },
 "nbformat": 4,
 "nbformat_minor": 2
}
